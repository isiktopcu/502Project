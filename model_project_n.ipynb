{
 "cells": [
  {
   "cell_type": "markdown",
   "id": "154fb8b7",
   "metadata": {},
   "source": [
    "# Modelling  the data"
   ]
  },
  {
   "cell_type": "code",
   "execution_count": 1,
   "id": "3e0c3da7",
   "metadata": {},
   "outputs": [],
   "source": [
    "import statsmodels.api as sm\n",
    "import statsmodels.formula.api as smf\n",
    "import pandas as pd\n",
    "from scipy.stats import kurtosis, skew\n",
    "import matplotlib.pyplot as plt\n",
    "import numpy as np\n",
    "np.set_printoptions(suppress=True)\n",
    "import seaborn as sns\n",
    "import scipy.stats as stats"
   ]
  },
  {
   "cell_type": "code",
   "execution_count": 2,
   "id": "43e3c719",
   "metadata": {},
   "outputs": [],
   "source": [
    "data = pd.read_csv (\"502project.csv\")"
   ]
  },
  {
   "cell_type": "code",
   "execution_count": 3,
   "id": "660dc3a6",
   "metadata": {
    "scrolled": true
   },
   "outputs": [
    {
     "data": {
      "text/html": [
       "<div>\n",
       "<style scoped>\n",
       "    .dataframe tbody tr th:only-of-type {\n",
       "        vertical-align: middle;\n",
       "    }\n",
       "\n",
       "    .dataframe tbody tr th {\n",
       "        vertical-align: top;\n",
       "    }\n",
       "\n",
       "    .dataframe thead th {\n",
       "        text-align: right;\n",
       "    }\n",
       "</style>\n",
       "<table border=\"1\" class=\"dataframe\">\n",
       "  <thead>\n",
       "    <tr style=\"text-align: right;\">\n",
       "      <th></th>\n",
       "      <th>Unnamed: 0</th>\n",
       "      <th>date</th>\n",
       "      <th>weekend</th>\n",
       "      <th>driving</th>\n",
       "      <th>transit</th>\n",
       "      <th>walking</th>\n",
       "      <th>cases</th>\n",
       "      <th>deaths</th>\n",
       "      <th>total_boosters</th>\n",
       "      <th>total tweet count</th>\n",
       "    </tr>\n",
       "  </thead>\n",
       "  <tbody>\n",
       "    <tr>\n",
       "      <th>0</th>\n",
       "      <td>0</td>\n",
       "      <td>2021-11-15</td>\n",
       "      <td>0</td>\n",
       "      <td>155.021242</td>\n",
       "      <td>99.521319</td>\n",
       "      <td>161.048497</td>\n",
       "      <td>47185415</td>\n",
       "      <td>763425</td>\n",
       "      <td>34254930</td>\n",
       "      <td>34035.0</td>\n",
       "    </tr>\n",
       "    <tr>\n",
       "      <th>1</th>\n",
       "      <td>1</td>\n",
       "      <td>2021-11-16</td>\n",
       "      <td>0</td>\n",
       "      <td>157.086692</td>\n",
       "      <td>99.774618</td>\n",
       "      <td>168.144937</td>\n",
       "      <td>47275900</td>\n",
       "      <td>764871</td>\n",
       "      <td>35254044</td>\n",
       "      <td>34372.0</td>\n",
       "    </tr>\n",
       "    <tr>\n",
       "      <th>2</th>\n",
       "      <td>2</td>\n",
       "      <td>2021-11-17</td>\n",
       "      <td>0</td>\n",
       "      <td>158.833792</td>\n",
       "      <td>100.054688</td>\n",
       "      <td>171.351771</td>\n",
       "      <td>47390257</td>\n",
       "      <td>766489</td>\n",
       "      <td>36304204</td>\n",
       "      <td>34927.0</td>\n",
       "    </tr>\n",
       "    <tr>\n",
       "      <th>3</th>\n",
       "      <td>3</td>\n",
       "      <td>2021-11-18</td>\n",
       "      <td>0</td>\n",
       "      <td>169.836009</td>\n",
       "      <td>102.968646</td>\n",
       "      <td>180.047925</td>\n",
       "      <td>47500530</td>\n",
       "      <td>769719</td>\n",
       "      <td>37381979</td>\n",
       "      <td>32380.0</td>\n",
       "    </tr>\n",
       "    <tr>\n",
       "      <th>4</th>\n",
       "      <td>4</td>\n",
       "      <td>2021-11-19</td>\n",
       "      <td>0</td>\n",
       "      <td>208.326922</td>\n",
       "      <td>113.331285</td>\n",
       "      <td>219.929141</td>\n",
       "      <td>47620178</td>\n",
       "      <td>771721</td>\n",
       "      <td>38641212</td>\n",
       "      <td>39943.0</td>\n",
       "    </tr>\n",
       "  </tbody>\n",
       "</table>\n",
       "</div>"
      ],
      "text/plain": [
       "   Unnamed: 0        date  weekend     driving     transit     walking  \\\n",
       "0           0  2021-11-15        0  155.021242   99.521319  161.048497   \n",
       "1           1  2021-11-16        0  157.086692   99.774618  168.144937   \n",
       "2           2  2021-11-17        0  158.833792  100.054688  171.351771   \n",
       "3           3  2021-11-18        0  169.836009  102.968646  180.047925   \n",
       "4           4  2021-11-19        0  208.326922  113.331285  219.929141   \n",
       "\n",
       "      cases  deaths  total_boosters  total tweet count  \n",
       "0  47185415  763425        34254930            34035.0  \n",
       "1  47275900  764871        35254044            34372.0  \n",
       "2  47390257  766489        36304204            34927.0  \n",
       "3  47500530  769719        37381979            32380.0  \n",
       "4  47620178  771721        38641212            39943.0  "
      ]
     },
     "execution_count": 3,
     "metadata": {},
     "output_type": "execute_result"
    }
   ],
   "source": [
    "data.head(5)"
   ]
  },
  {
   "cell_type": "code",
   "execution_count": 4,
   "id": "56c563a7",
   "metadata": {
    "scrolled": true
   },
   "outputs": [],
   "source": [
    "#renaming columns\n",
    "data.rename(columns={'total_boosters': 'boosters', 'total tweet count':'tweets'}, inplace=True)"
   ]
  },
  {
   "cell_type": "markdown",
   "id": "e70bc74f",
   "metadata": {},
   "source": [
    "# Log transformation of the dataframe "
   ]
  },
  {
   "cell_type": "code",
   "execution_count": 5,
   "id": "65828ed5",
   "metadata": {},
   "outputs": [],
   "source": [
    "for column in data.iloc[: , 3:]:\n",
    "    log_data = np.log(data.iloc[: , 3:])"
   ]
  },
  {
   "cell_type": "code",
   "execution_count": 6,
   "id": "2f6507af",
   "metadata": {},
   "outputs": [
    {
     "data": {
      "text/html": [
       "<div>\n",
       "<style scoped>\n",
       "    .dataframe tbody tr th:only-of-type {\n",
       "        vertical-align: middle;\n",
       "    }\n",
       "\n",
       "    .dataframe tbody tr th {\n",
       "        vertical-align: top;\n",
       "    }\n",
       "\n",
       "    .dataframe thead th {\n",
       "        text-align: right;\n",
       "    }\n",
       "</style>\n",
       "<table border=\"1\" class=\"dataframe\">\n",
       "  <thead>\n",
       "    <tr style=\"text-align: right;\">\n",
       "      <th></th>\n",
       "      <th>driving_log</th>\n",
       "      <th>transit_log</th>\n",
       "      <th>walking_log</th>\n",
       "      <th>cases_log</th>\n",
       "      <th>deaths_log</th>\n",
       "      <th>boosters_log</th>\n",
       "      <th>tweets_log</th>\n",
       "    </tr>\n",
       "  </thead>\n",
       "  <tbody>\n",
       "    <tr>\n",
       "      <th>0</th>\n",
       "      <td>5.043562</td>\n",
       "      <td>4.600372</td>\n",
       "      <td>5.081706</td>\n",
       "      <td>17.669595</td>\n",
       "      <td>13.545570</td>\n",
       "      <td>17.349341</td>\n",
       "      <td>10.435145</td>\n",
       "    </tr>\n",
       "    <tr>\n",
       "      <th>1</th>\n",
       "      <td>5.056798</td>\n",
       "      <td>4.602914</td>\n",
       "      <td>5.124826</td>\n",
       "      <td>17.671511</td>\n",
       "      <td>13.547462</td>\n",
       "      <td>17.378091</td>\n",
       "      <td>10.444998</td>\n",
       "    </tr>\n",
       "  </tbody>\n",
       "</table>\n",
       "</div>"
      ],
      "text/plain": [
       "   driving_log  transit_log  walking_log  cases_log  deaths_log  boosters_log  \\\n",
       "0     5.043562     4.600372     5.081706  17.669595   13.545570     17.349341   \n",
       "1     5.056798     4.602914     5.124826  17.671511   13.547462     17.378091   \n",
       "\n",
       "   tweets_log  \n",
       "0   10.435145  \n",
       "1   10.444998  "
      ]
     },
     "execution_count": 6,
     "metadata": {},
     "output_type": "execute_result"
    }
   ],
   "source": [
    "log_data = log_data.add_suffix('_log')\n",
    "log_data.head(2)"
   ]
  },
  {
   "cell_type": "code",
   "execution_count": 7,
   "id": "96412051",
   "metadata": {},
   "outputs": [],
   "source": [
    "data = pd.concat([data, log_data], axis=1, join='inner')"
   ]
  },
  {
   "cell_type": "code",
   "execution_count": 8,
   "id": "3438358a",
   "metadata": {},
   "outputs": [
    {
     "data": {
      "text/html": [
       "<div>\n",
       "<style scoped>\n",
       "    .dataframe tbody tr th:only-of-type {\n",
       "        vertical-align: middle;\n",
       "    }\n",
       "\n",
       "    .dataframe tbody tr th {\n",
       "        vertical-align: top;\n",
       "    }\n",
       "\n",
       "    .dataframe thead th {\n",
       "        text-align: right;\n",
       "    }\n",
       "</style>\n",
       "<table border=\"1\" class=\"dataframe\">\n",
       "  <thead>\n",
       "    <tr style=\"text-align: right;\">\n",
       "      <th></th>\n",
       "      <th>Unnamed: 0</th>\n",
       "      <th>date</th>\n",
       "      <th>weekend</th>\n",
       "      <th>driving</th>\n",
       "      <th>transit</th>\n",
       "      <th>walking</th>\n",
       "      <th>cases</th>\n",
       "      <th>deaths</th>\n",
       "      <th>boosters</th>\n",
       "      <th>tweets</th>\n",
       "      <th>driving_log</th>\n",
       "      <th>transit_log</th>\n",
       "      <th>walking_log</th>\n",
       "      <th>cases_log</th>\n",
       "      <th>deaths_log</th>\n",
       "      <th>boosters_log</th>\n",
       "      <th>tweets_log</th>\n",
       "    </tr>\n",
       "  </thead>\n",
       "  <tbody>\n",
       "    <tr>\n",
       "      <th>0</th>\n",
       "      <td>0</td>\n",
       "      <td>2021-11-15</td>\n",
       "      <td>0</td>\n",
       "      <td>155.021242</td>\n",
       "      <td>99.521319</td>\n",
       "      <td>161.048497</td>\n",
       "      <td>47185415</td>\n",
       "      <td>763425</td>\n",
       "      <td>34254930</td>\n",
       "      <td>34035.0</td>\n",
       "      <td>5.043562</td>\n",
       "      <td>4.600372</td>\n",
       "      <td>5.081706</td>\n",
       "      <td>17.669595</td>\n",
       "      <td>13.545570</td>\n",
       "      <td>17.349341</td>\n",
       "      <td>10.435145</td>\n",
       "    </tr>\n",
       "    <tr>\n",
       "      <th>1</th>\n",
       "      <td>1</td>\n",
       "      <td>2021-11-16</td>\n",
       "      <td>0</td>\n",
       "      <td>157.086692</td>\n",
       "      <td>99.774618</td>\n",
       "      <td>168.144937</td>\n",
       "      <td>47275900</td>\n",
       "      <td>764871</td>\n",
       "      <td>35254044</td>\n",
       "      <td>34372.0</td>\n",
       "      <td>5.056798</td>\n",
       "      <td>4.602914</td>\n",
       "      <td>5.124826</td>\n",
       "      <td>17.671511</td>\n",
       "      <td>13.547462</td>\n",
       "      <td>17.378091</td>\n",
       "      <td>10.444998</td>\n",
       "    </tr>\n",
       "    <tr>\n",
       "      <th>2</th>\n",
       "      <td>2</td>\n",
       "      <td>2021-11-17</td>\n",
       "      <td>0</td>\n",
       "      <td>158.833792</td>\n",
       "      <td>100.054688</td>\n",
       "      <td>171.351771</td>\n",
       "      <td>47390257</td>\n",
       "      <td>766489</td>\n",
       "      <td>36304204</td>\n",
       "      <td>34927.0</td>\n",
       "      <td>5.067858</td>\n",
       "      <td>4.605717</td>\n",
       "      <td>5.143719</td>\n",
       "      <td>17.673927</td>\n",
       "      <td>13.549576</td>\n",
       "      <td>17.407444</td>\n",
       "      <td>10.461015</td>\n",
       "    </tr>\n",
       "    <tr>\n",
       "      <th>3</th>\n",
       "      <td>3</td>\n",
       "      <td>2021-11-18</td>\n",
       "      <td>0</td>\n",
       "      <td>169.836009</td>\n",
       "      <td>102.968646</td>\n",
       "      <td>180.047925</td>\n",
       "      <td>47500530</td>\n",
       "      <td>769719</td>\n",
       "      <td>37381979</td>\n",
       "      <td>32380.0</td>\n",
       "      <td>5.134833</td>\n",
       "      <td>4.634425</td>\n",
       "      <td>5.193223</td>\n",
       "      <td>17.676251</td>\n",
       "      <td>13.553781</td>\n",
       "      <td>17.436699</td>\n",
       "      <td>10.385296</td>\n",
       "    </tr>\n",
       "    <tr>\n",
       "      <th>4</th>\n",
       "      <td>4</td>\n",
       "      <td>2021-11-19</td>\n",
       "      <td>0</td>\n",
       "      <td>208.326922</td>\n",
       "      <td>113.331285</td>\n",
       "      <td>219.929141</td>\n",
       "      <td>47620178</td>\n",
       "      <td>771721</td>\n",
       "      <td>38641212</td>\n",
       "      <td>39943.0</td>\n",
       "      <td>5.339109</td>\n",
       "      <td>4.730315</td>\n",
       "      <td>5.393305</td>\n",
       "      <td>17.678767</td>\n",
       "      <td>13.556378</td>\n",
       "      <td>17.469830</td>\n",
       "      <td>10.595209</td>\n",
       "    </tr>\n",
       "  </tbody>\n",
       "</table>\n",
       "</div>"
      ],
      "text/plain": [
       "   Unnamed: 0        date  weekend     driving     transit     walking  \\\n",
       "0           0  2021-11-15        0  155.021242   99.521319  161.048497   \n",
       "1           1  2021-11-16        0  157.086692   99.774618  168.144937   \n",
       "2           2  2021-11-17        0  158.833792  100.054688  171.351771   \n",
       "3           3  2021-11-18        0  169.836009  102.968646  180.047925   \n",
       "4           4  2021-11-19        0  208.326922  113.331285  219.929141   \n",
       "\n",
       "      cases  deaths  boosters   tweets  driving_log  transit_log  walking_log  \\\n",
       "0  47185415  763425  34254930  34035.0     5.043562     4.600372     5.081706   \n",
       "1  47275900  764871  35254044  34372.0     5.056798     4.602914     5.124826   \n",
       "2  47390257  766489  36304204  34927.0     5.067858     4.605717     5.143719   \n",
       "3  47500530  769719  37381979  32380.0     5.134833     4.634425     5.193223   \n",
       "4  47620178  771721  38641212  39943.0     5.339109     4.730315     5.393305   \n",
       "\n",
       "   cases_log  deaths_log  boosters_log  tweets_log  \n",
       "0  17.669595   13.545570     17.349341   10.435145  \n",
       "1  17.671511   13.547462     17.378091   10.444998  \n",
       "2  17.673927   13.549576     17.407444   10.461015  \n",
       "3  17.676251   13.553781     17.436699   10.385296  \n",
       "4  17.678767   13.556378     17.469830   10.595209  "
      ]
     },
     "execution_count": 8,
     "metadata": {},
     "output_type": "execute_result"
    }
   ],
   "source": [
    "data.head(5) #with logged values of each variable "
   ]
  },
  {
   "cell_type": "markdown",
   "id": "f4717a36",
   "metadata": {},
   "source": [
    "# Line Graphs for Variables "
   ]
  },
  {
   "cell_type": "code",
   "execution_count": 9,
   "id": "7c254f43",
   "metadata": {},
   "outputs": [
    {
     "data": {
      "image/png": "[encoded data removed]",
      "text/plain": [
       "<Figure size 432x288 with 2 Axes>"
      ]
     },
     "metadata": {
      "needs_background": "light"
     },
     "output_type": "display_data"
    }
   ],
   "source": [
    "# Line Graph for Mobility and Tweet counts(dependent variable and independent variable)\n",
    "fig, ax = plt.subplots()\n",
    "ax.plot(data[\"tweets\"], color='green')\n",
    "ax.tick_params(axis='y', labelcolor='green')\n",
    "ax2 = ax.twinx()\n",
    "ax2.plot(data[[\"walking\"]], color='red')\n",
    "ax2.tick_params(axis='y', labelcolor='red')\n",
    "plt.show()"
   ]
  },
  {
   "cell_type": "code",
   "execution_count": 10,
   "id": "2f0ec517",
   "metadata": {
    "scrolled": true
   },
   "outputs": [
    {
     "data": {
      "image/png": "[encoded data removed]",
      "text/plain": [
       "<Figure size 432x288 with 1 Axes>"
      ]
     },
     "metadata": {
      "needs_background": "light"
     },
     "output_type": "display_data"
    }
   ],
   "source": [
    "plt.hist(data[\"walking\"],bins=12,\n",
    "         color='blue',label=\"Walking\");\n",
    "plt.xlabel(\"Based on 100 (= Jan 13,2020)\")\n",
    "plt.ylabel(\"Number of observations\")\n",
    "plt.legend()\n",
    "plt.title(\"US Daily Walking Distribution\");"
   ]
  },
  {
   "cell_type": "code",
   "execution_count": 11,
   "id": "1f26f2a2",
   "metadata": {
    "scrolled": true
   },
   "outputs": [
    {
     "name": "stdout",
     "output_type": "stream",
     "text": [
      "Kurtosis 0.7614168945893369\n",
      "Skew: 0.023802096496604596\n"
     ]
    }
   ],
   "source": [
    "print('Kurtosis {}'.format(kurtosis(data[\"walking\"])) ) #negatively kurtotic \n",
    "print('Skew: {}'.format(skew(data[\"walking\"])) ) #if the skewness is between -0.5 and 0.5, the data are fairly symmetrical"
   ]
  },
  {
   "cell_type": "code",
   "execution_count": 12,
   "id": "bc80ef5c",
   "metadata": {
    "scrolled": false
   },
   "outputs": [
    {
     "data": {
      "image/png": "[encoded data removed]",
      "text/plain": [
       "<Figure size 432x288 with 1 Axes>"
      ]
     },
     "metadata": {
      "needs_background": "light"
     },
     "output_type": "display_data"
    }
   ],
   "source": [
    "plt.hist(data[\"driving\"],bins=12,\n",
    "         color='green',label=\"Driving\");\n",
    "plt.xlabel(\"Based on 100 (= Jan 13,2020)\")\n",
    "plt.ylabel(\"Number of observations\")\n",
    "plt.legend()\n",
    "plt.title(\"US Daily Driving Distribution\");"
   ]
  },
  {
   "cell_type": "code",
   "execution_count": 13,
   "id": "0a281f2e",
   "metadata": {},
   "outputs": [
    {
     "name": "stdout",
     "output_type": "stream",
     "text": [
      "Kurtosis -0.2918444514537586\n",
      "Skew: -0.009743380970013418\n"
     ]
    }
   ],
   "source": [
    "print('Kurtosis {}'.format(kurtosis(data[\"driving\"])) ) #negatively kurtotic \n",
    "print('Skew: {}'.format(skew(data[\"driving\"])) ) #if the skewness is between -0.5 and 0.5, the data are fairly symmetrical"
   ]
  },
  {
   "cell_type": "code",
   "execution_count": 14,
   "id": "fdd97f04",
   "metadata": {},
   "outputs": [
    {
     "data": {
      "image/png": "[encoded data removed]",
      "text/plain": [
       "<Figure size 432x288 with 1 Axes>"
      ]
     },
     "metadata": {
      "needs_background": "light"
     },
     "output_type": "display_data"
    }
   ],
   "source": [
    "plt.hist(data[\"transit\"],bins=12,\n",
    "         color='orange',label=\"Transit\");\n",
    "plt.xlabel(\"Based on 100 (= Jan 13,2020)\")\n",
    "plt.ylabel(\"Number of observations\")\n",
    "plt.legend()\n",
    "plt.title(\"US Daily Transit Distribution\");"
   ]
  },
  {
   "cell_type": "code",
   "execution_count": 15,
   "id": "cb7a9464",
   "metadata": {
    "scrolled": true
   },
   "outputs": [
    {
     "name": "stdout",
     "output_type": "stream",
     "text": [
      "Kurtosis 1.634959026265883\n",
      "Skew: -0.9951396725433707\n"
     ]
    }
   ],
   "source": [
    "print('Kurtosis {}'.format(kurtosis(data[\"transit\"])) ) \n",
    "print('Skew: {}'.format(skew(data[\"transit\"])) ) "
   ]
  },
  {
   "cell_type": "markdown",
   "id": "0e0f933f",
   "metadata": {},
   "source": [
    "# Box Cox "
   ]
  },
  {
   "cell_type": "markdown",
   "id": "339748fb",
   "metadata": {},
   "source": [
    "### Walking "
   ]
  },
  {
   "cell_type": "code",
   "execution_count": 16,
   "id": "8000d302",
   "metadata": {},
   "outputs": [
    {
     "name": "stdout",
     "output_type": "stream",
     "text": [
      "Lambda value used for Transformation: 1.0404558220416402\n"
     ]
    },
    {
     "name": "stderr",
     "output_type": "stream",
     "text": [
      "/opt/anaconda3/lib/python3.8/site-packages/seaborn/distributions.py:2557: FutureWarning: `distplot` is a deprecated function and will be removed in a future version. Please adapt your code to use either `displot` (a figure-level function with similar flexibility) or `kdeplot` (an axes-level function for kernel density plots).\n",
      "  warnings.warn(msg, FutureWarning)\n",
      "/opt/anaconda3/lib/python3.8/site-packages/seaborn/distributions.py:2557: FutureWarning: `distplot` is a deprecated function and will be removed in a future version. Please adapt your code to use either `displot` (a figure-level function with similar flexibility) or `kdeplot` (an axes-level function for kernel density plots).\n",
      "  warnings.warn(msg, FutureWarning)\n"
     ]
    },
    {
     "data": {
      "image/png": "[encoded data removed]",
      "text/plain": [
       "<Figure size 720x360 with 2 Axes>"
      ]
     },
     "metadata": {
      "needs_background": "light"
     },
     "output_type": "display_data"
    }
   ],
   "source": [
    "# transform training data & save lambda value\n",
    "fitted_data, fitted_lambda = stats.boxcox(data[\"walking\"])\n",
    "  \n",
    "# creating axes to draw plots\n",
    "fig, ax = plt.subplots(1, 2)\n",
    "  \n",
    "# plotting the original data(non-normal) and \n",
    "# fitted data (normal)\n",
    "sns.distplot(data[\"walking\"], hist = False, kde = True,\n",
    "            kde_kws = {'shade': True, 'linewidth': 2}, \n",
    "            label = \"Non-Normal\", color =\"green\", ax = ax[0])\n",
    "  \n",
    "sns.distplot(fitted_data, hist = False, kde = True,\n",
    "            kde_kws = {'shade': True, 'linewidth': 2}, \n",
    "            label = \"Normal\", color =\"green\", ax = ax[1])\n",
    "  \n",
    "# adding legends to the subplots\n",
    "plt.legend(loc = \"upper right\")\n",
    "  \n",
    "# rescaling the subplots\n",
    "fig.set_figheight(5)\n",
    "fig.set_figwidth(10)\n",
    "  \n",
    "print(f\"Lambda value used for Transformation: {fitted_lambda}\")"
   ]
  },
  {
   "cell_type": "code",
   "execution_count": 17,
   "id": "f0cff9d1",
   "metadata": {},
   "outputs": [],
   "source": [
    "data[\"walking_box_cox\"] = fitted_data"
   ]
  },
  {
   "cell_type": "code",
   "execution_count": 18,
   "id": "590cf5a8",
   "metadata": {
    "scrolled": true
   },
   "outputs": [
    {
     "data": {
      "text/plain": [
       "Index(['Unnamed: 0', 'date', 'weekend', 'driving', 'transit', 'walking',\n",
       "       'cases', 'deaths', 'boosters', 'tweets', 'driving_log', 'transit_log',\n",
       "       'walking_log', 'cases_log', 'deaths_log', 'boosters_log', 'tweets_log',\n",
       "       'walking_box_cox'],\n",
       "      dtype='object')"
      ]
     },
     "execution_count": 18,
     "metadata": {},
     "output_type": "execute_result"
    }
   ],
   "source": [
    "data.columns"
   ]
  },
  {
   "cell_type": "markdown",
   "id": "0876191b",
   "metadata": {},
   "source": [
    "Lagging the mobility columns five days later because people don't see a tweet and suddenly make up their minds. "
   ]
  },
  {
   "cell_type": "code",
   "execution_count": 19,
   "id": "2ec1d035",
   "metadata": {},
   "outputs": [],
   "source": [
    "data[['date','weekend', 'driving', 'transit','driving_log','transit_log','walking_log',\"walking_box_cox\"]] = data[['date','weekend', 'driving', 'transit','driving_log','transit_log','walking_log',\"walking_box_cox\"]].shift(5)"
   ]
  },
  {
   "cell_type": "code",
   "execution_count": 20,
   "id": "c0fb85b3",
   "metadata": {},
   "outputs": [
    {
     "data": {
      "text/html": [
       "<div>\n",
       "<style scoped>\n",
       "    .dataframe tbody tr th:only-of-type {\n",
       "        vertical-align: middle;\n",
       "    }\n",
       "\n",
       "    .dataframe tbody tr th {\n",
       "        vertical-align: top;\n",
       "    }\n",
       "\n",
       "    .dataframe thead th {\n",
       "        text-align: right;\n",
       "    }\n",
       "</style>\n",
       "<table border=\"1\" class=\"dataframe\">\n",
       "  <thead>\n",
       "    <tr style=\"text-align: right;\">\n",
       "      <th></th>\n",
       "      <th>Unnamed: 0</th>\n",
       "      <th>date</th>\n",
       "      <th>weekend</th>\n",
       "      <th>driving</th>\n",
       "      <th>transit</th>\n",
       "      <th>walking</th>\n",
       "      <th>cases</th>\n",
       "      <th>deaths</th>\n",
       "      <th>boosters</th>\n",
       "      <th>tweets</th>\n",
       "      <th>driving_log</th>\n",
       "      <th>transit_log</th>\n",
       "      <th>walking_log</th>\n",
       "      <th>cases_log</th>\n",
       "      <th>deaths_log</th>\n",
       "      <th>boosters_log</th>\n",
       "      <th>tweets_log</th>\n",
       "      <th>walking_box_cox</th>\n",
       "    </tr>\n",
       "  </thead>\n",
       "  <tbody>\n",
       "    <tr>\n",
       "      <th>0</th>\n",
       "      <td>0</td>\n",
       "      <td>NaN</td>\n",
       "      <td>NaN</td>\n",
       "      <td>NaN</td>\n",
       "      <td>NaN</td>\n",
       "      <td>161.048497</td>\n",
       "      <td>47185415</td>\n",
       "      <td>763425</td>\n",
       "      <td>34254930</td>\n",
       "      <td>34035.0</td>\n",
       "      <td>NaN</td>\n",
       "      <td>NaN</td>\n",
       "      <td>NaN</td>\n",
       "      <td>17.669595</td>\n",
       "      <td>13.545570</td>\n",
       "      <td>17.349341</td>\n",
       "      <td>10.435145</td>\n",
       "      <td>NaN</td>\n",
       "    </tr>\n",
       "    <tr>\n",
       "      <th>1</th>\n",
       "      <td>1</td>\n",
       "      <td>NaN</td>\n",
       "      <td>NaN</td>\n",
       "      <td>NaN</td>\n",
       "      <td>NaN</td>\n",
       "      <td>168.144937</td>\n",
       "      <td>47275900</td>\n",
       "      <td>764871</td>\n",
       "      <td>35254044</td>\n",
       "      <td>34372.0</td>\n",
       "      <td>NaN</td>\n",
       "      <td>NaN</td>\n",
       "      <td>NaN</td>\n",
       "      <td>17.671511</td>\n",
       "      <td>13.547462</td>\n",
       "      <td>17.378091</td>\n",
       "      <td>10.444998</td>\n",
       "      <td>NaN</td>\n",
       "    </tr>\n",
       "    <tr>\n",
       "      <th>2</th>\n",
       "      <td>2</td>\n",
       "      <td>NaN</td>\n",
       "      <td>NaN</td>\n",
       "      <td>NaN</td>\n",
       "      <td>NaN</td>\n",
       "      <td>171.351771</td>\n",
       "      <td>47390257</td>\n",
       "      <td>766489</td>\n",
       "      <td>36304204</td>\n",
       "      <td>34927.0</td>\n",
       "      <td>NaN</td>\n",
       "      <td>NaN</td>\n",
       "      <td>NaN</td>\n",
       "      <td>17.673927</td>\n",
       "      <td>13.549576</td>\n",
       "      <td>17.407444</td>\n",
       "      <td>10.461015</td>\n",
       "      <td>NaN</td>\n",
       "    </tr>\n",
       "    <tr>\n",
       "      <th>3</th>\n",
       "      <td>3</td>\n",
       "      <td>NaN</td>\n",
       "      <td>NaN</td>\n",
       "      <td>NaN</td>\n",
       "      <td>NaN</td>\n",
       "      <td>180.047925</td>\n",
       "      <td>47500530</td>\n",
       "      <td>769719</td>\n",
       "      <td>37381979</td>\n",
       "      <td>32380.0</td>\n",
       "      <td>NaN</td>\n",
       "      <td>NaN</td>\n",
       "      <td>NaN</td>\n",
       "      <td>17.676251</td>\n",
       "      <td>13.553781</td>\n",
       "      <td>17.436699</td>\n",
       "      <td>10.385296</td>\n",
       "      <td>NaN</td>\n",
       "    </tr>\n",
       "    <tr>\n",
       "      <th>4</th>\n",
       "      <td>4</td>\n",
       "      <td>NaN</td>\n",
       "      <td>NaN</td>\n",
       "      <td>NaN</td>\n",
       "      <td>NaN</td>\n",
       "      <td>219.929141</td>\n",
       "      <td>47620178</td>\n",
       "      <td>771721</td>\n",
       "      <td>38641212</td>\n",
       "      <td>39943.0</td>\n",
       "      <td>NaN</td>\n",
       "      <td>NaN</td>\n",
       "      <td>NaN</td>\n",
       "      <td>17.678767</td>\n",
       "      <td>13.556378</td>\n",
       "      <td>17.469830</td>\n",
       "      <td>10.595209</td>\n",
       "      <td>NaN</td>\n",
       "    </tr>\n",
       "    <tr>\n",
       "      <th>5</th>\n",
       "      <td>5</td>\n",
       "      <td>2021-11-15</td>\n",
       "      <td>0.0</td>\n",
       "      <td>155.021242</td>\n",
       "      <td>99.521319</td>\n",
       "      <td>240.946995</td>\n",
       "      <td>47661242</td>\n",
       "      <td>772046</td>\n",
       "      <td>39295976</td>\n",
       "      <td>30262.0</td>\n",
       "      <td>5.043562</td>\n",
       "      <td>4.600372</td>\n",
       "      <td>5.081706</td>\n",
       "      <td>17.679629</td>\n",
       "      <td>13.556799</td>\n",
       "      <td>17.486633</td>\n",
       "      <td>10.317648</td>\n",
       "      <td>189.154275</td>\n",
       "    </tr>\n",
       "    <tr>\n",
       "      <th>6</th>\n",
       "      <td>6</td>\n",
       "      <td>2021-11-16</td>\n",
       "      <td>0.0</td>\n",
       "      <td>157.086692</td>\n",
       "      <td>99.774618</td>\n",
       "      <td>152.100644</td>\n",
       "      <td>47692614</td>\n",
       "      <td>772169</td>\n",
       "      <td>39662837</td>\n",
       "      <td>29197.0</td>\n",
       "      <td>5.056798</td>\n",
       "      <td>4.602914</td>\n",
       "      <td>5.124826</td>\n",
       "      <td>17.680287</td>\n",
       "      <td>13.556959</td>\n",
       "      <td>17.495925</td>\n",
       "      <td>10.281821</td>\n",
       "      <td>197.878088</td>\n",
       "    </tr>\n",
       "    <tr>\n",
       "      <th>7</th>\n",
       "      <td>7</td>\n",
       "      <td>2021-11-17</td>\n",
       "      <td>0.0</td>\n",
       "      <td>158.833792</td>\n",
       "      <td>100.054688</td>\n",
       "      <td>172.261270</td>\n",
       "      <td>47851512</td>\n",
       "      <td>773402</td>\n",
       "      <td>40782210</td>\n",
       "      <td>31329.0</td>\n",
       "      <td>5.067858</td>\n",
       "      <td>4.605717</td>\n",
       "      <td>5.143719</td>\n",
       "      <td>17.683613</td>\n",
       "      <td>13.558554</td>\n",
       "      <td>17.523757</td>\n",
       "      <td>10.352299</td>\n",
       "      <td>201.825249</td>\n",
       "    </tr>\n",
       "    <tr>\n",
       "      <th>8</th>\n",
       "      <td>8</td>\n",
       "      <td>2021-11-18</td>\n",
       "      <td>0.0</td>\n",
       "      <td>169.836009</td>\n",
       "      <td>102.968646</td>\n",
       "      <td>183.394758</td>\n",
       "      <td>47944283</td>\n",
       "      <td>774880</td>\n",
       "      <td>41879231</td>\n",
       "      <td>30191.0</td>\n",
       "      <td>5.134833</td>\n",
       "      <td>4.634425</td>\n",
       "      <td>5.193223</td>\n",
       "      <td>17.685550</td>\n",
       "      <td>13.560463</td>\n",
       "      <td>17.550301</td>\n",
       "      <td>10.315299</td>\n",
       "      <td>212.543886</td>\n",
       "    </tr>\n",
       "    <tr>\n",
       "      <th>9</th>\n",
       "      <td>9</td>\n",
       "      <td>2021-11-19</td>\n",
       "      <td>0.0</td>\n",
       "      <td>208.326922</td>\n",
       "      <td>113.331285</td>\n",
       "      <td>198.798819</td>\n",
       "      <td>48064175</td>\n",
       "      <td>776516</td>\n",
       "      <td>42680064</td>\n",
       "      <td>29082.0</td>\n",
       "      <td>5.339109</td>\n",
       "      <td>4.730315</td>\n",
       "      <td>5.393305</td>\n",
       "      <td>17.688048</td>\n",
       "      <td>13.562573</td>\n",
       "      <td>17.569242</td>\n",
       "      <td>10.277875</td>\n",
       "      <td>261.955544</td>\n",
       "    </tr>\n",
       "  </tbody>\n",
       "</table>\n",
       "</div>"
      ],
      "text/plain": [
       "   Unnamed: 0        date  weekend     driving     transit     walking  \\\n",
       "0           0         NaN      NaN         NaN         NaN  161.048497   \n",
       "1           1         NaN      NaN         NaN         NaN  168.144937   \n",
       "2           2         NaN      NaN         NaN         NaN  171.351771   \n",
       "3           3         NaN      NaN         NaN         NaN  180.047925   \n",
       "4           4         NaN      NaN         NaN         NaN  219.929141   \n",
       "5           5  2021-11-15      0.0  155.021242   99.521319  240.946995   \n",
       "6           6  2021-11-16      0.0  157.086692   99.774618  152.100644   \n",
       "7           7  2021-11-17      0.0  158.833792  100.054688  172.261270   \n",
       "8           8  2021-11-18      0.0  169.836009  102.968646  183.394758   \n",
       "9           9  2021-11-19      0.0  208.326922  113.331285  198.798819   \n",
       "\n",
       "      cases  deaths  boosters   tweets  driving_log  transit_log  walking_log  \\\n",
       "0  47185415  763425  34254930  34035.0          NaN          NaN          NaN   \n",
       "1  47275900  764871  35254044  34372.0          NaN          NaN          NaN   \n",
       "2  47390257  766489  36304204  34927.0          NaN          NaN          NaN   \n",
       "3  47500530  769719  37381979  32380.0          NaN          NaN          NaN   \n",
       "4  47620178  771721  38641212  39943.0          NaN          NaN          NaN   \n",
       "5  47661242  772046  39295976  30262.0     5.043562     4.600372     5.081706   \n",
       "6  47692614  772169  39662837  29197.0     5.056798     4.602914     5.124826   \n",
       "7  47851512  773402  40782210  31329.0     5.067858     4.605717     5.143719   \n",
       "8  47944283  774880  41879231  30191.0     5.134833     4.634425     5.193223   \n",
       "9  48064175  776516  42680064  29082.0     5.339109     4.730315     5.393305   \n",
       "\n",
       "   cases_log  deaths_log  boosters_log  tweets_log  walking_box_cox  \n",
       "0  17.669595   13.545570     17.349341   10.435145              NaN  \n",
       "1  17.671511   13.547462     17.378091   10.444998              NaN  \n",
       "2  17.673927   13.549576     17.407444   10.461015              NaN  \n",
       "3  17.676251   13.553781     17.436699   10.385296              NaN  \n",
       "4  17.678767   13.556378     17.469830   10.595209              NaN  \n",
       "5  17.679629   13.556799     17.486633   10.317648       189.154275  \n",
       "6  17.680287   13.556959     17.495925   10.281821       197.878088  \n",
       "7  17.683613   13.558554     17.523757   10.352299       201.825249  \n",
       "8  17.685550   13.560463     17.550301   10.315299       212.543886  \n",
       "9  17.688048   13.562573     17.569242   10.277875       261.955544  "
      ]
     },
     "execution_count": 20,
     "metadata": {},
     "output_type": "execute_result"
    }
   ],
   "source": [
    "data.head(10)"
   ]
  },
  {
   "cell_type": "code",
   "execution_count": 21,
   "id": "03ecf460",
   "metadata": {},
   "outputs": [],
   "source": [
    "data = data.dropna()"
   ]
  },
  {
   "cell_type": "code",
   "execution_count": 22,
   "id": "8b74d650",
   "metadata": {
    "scrolled": true
   },
   "outputs": [
    {
     "data": {
      "text/html": [
       "<div>\n",
       "<style scoped>\n",
       "    .dataframe tbody tr th:only-of-type {\n",
       "        vertical-align: middle;\n",
       "    }\n",
       "\n",
       "    .dataframe tbody tr th {\n",
       "        vertical-align: top;\n",
       "    }\n",
       "\n",
       "    .dataframe thead th {\n",
       "        text-align: right;\n",
       "    }\n",
       "</style>\n",
       "<table border=\"1\" class=\"dataframe\">\n",
       "  <thead>\n",
       "    <tr style=\"text-align: right;\">\n",
       "      <th></th>\n",
       "      <th>Unnamed: 0</th>\n",
       "      <th>date</th>\n",
       "      <th>weekend</th>\n",
       "      <th>driving</th>\n",
       "      <th>transit</th>\n",
       "      <th>walking</th>\n",
       "      <th>cases</th>\n",
       "      <th>deaths</th>\n",
       "      <th>boosters</th>\n",
       "      <th>tweets</th>\n",
       "      <th>driving_log</th>\n",
       "      <th>transit_log</th>\n",
       "      <th>walking_log</th>\n",
       "      <th>cases_log</th>\n",
       "      <th>deaths_log</th>\n",
       "      <th>boosters_log</th>\n",
       "      <th>tweets_log</th>\n",
       "      <th>walking_box_cox</th>\n",
       "    </tr>\n",
       "  </thead>\n",
       "  <tbody>\n",
       "    <tr>\n",
       "      <th>5</th>\n",
       "      <td>5</td>\n",
       "      <td>2021-11-15</td>\n",
       "      <td>0.0</td>\n",
       "      <td>155.021242</td>\n",
       "      <td>99.521319</td>\n",
       "      <td>240.946995</td>\n",
       "      <td>47661242</td>\n",
       "      <td>772046</td>\n",
       "      <td>39295976</td>\n",
       "      <td>30262.0</td>\n",
       "      <td>5.043562</td>\n",
       "      <td>4.600372</td>\n",
       "      <td>5.081706</td>\n",
       "      <td>17.679629</td>\n",
       "      <td>13.556799</td>\n",
       "      <td>17.486633</td>\n",
       "      <td>10.317648</td>\n",
       "      <td>189.154275</td>\n",
       "    </tr>\n",
       "    <tr>\n",
       "      <th>6</th>\n",
       "      <td>6</td>\n",
       "      <td>2021-11-16</td>\n",
       "      <td>0.0</td>\n",
       "      <td>157.086692</td>\n",
       "      <td>99.774618</td>\n",
       "      <td>152.100644</td>\n",
       "      <td>47692614</td>\n",
       "      <td>772169</td>\n",
       "      <td>39662837</td>\n",
       "      <td>29197.0</td>\n",
       "      <td>5.056798</td>\n",
       "      <td>4.602914</td>\n",
       "      <td>5.124826</td>\n",
       "      <td>17.680287</td>\n",
       "      <td>13.556959</td>\n",
       "      <td>17.495925</td>\n",
       "      <td>10.281821</td>\n",
       "      <td>197.878088</td>\n",
       "    </tr>\n",
       "    <tr>\n",
       "      <th>7</th>\n",
       "      <td>7</td>\n",
       "      <td>2021-11-17</td>\n",
       "      <td>0.0</td>\n",
       "      <td>158.833792</td>\n",
       "      <td>100.054688</td>\n",
       "      <td>172.261270</td>\n",
       "      <td>47851512</td>\n",
       "      <td>773402</td>\n",
       "      <td>40782210</td>\n",
       "      <td>31329.0</td>\n",
       "      <td>5.067858</td>\n",
       "      <td>4.605717</td>\n",
       "      <td>5.143719</td>\n",
       "      <td>17.683613</td>\n",
       "      <td>13.558554</td>\n",
       "      <td>17.523757</td>\n",
       "      <td>10.352299</td>\n",
       "      <td>201.825249</td>\n",
       "    </tr>\n",
       "    <tr>\n",
       "      <th>8</th>\n",
       "      <td>8</td>\n",
       "      <td>2021-11-18</td>\n",
       "      <td>0.0</td>\n",
       "      <td>169.836009</td>\n",
       "      <td>102.968646</td>\n",
       "      <td>183.394758</td>\n",
       "      <td>47944283</td>\n",
       "      <td>774880</td>\n",
       "      <td>41879231</td>\n",
       "      <td>30191.0</td>\n",
       "      <td>5.134833</td>\n",
       "      <td>4.634425</td>\n",
       "      <td>5.193223</td>\n",
       "      <td>17.685550</td>\n",
       "      <td>13.560463</td>\n",
       "      <td>17.550301</td>\n",
       "      <td>10.315299</td>\n",
       "      <td>212.543886</td>\n",
       "    </tr>\n",
       "    <tr>\n",
       "      <th>9</th>\n",
       "      <td>9</td>\n",
       "      <td>2021-11-19</td>\n",
       "      <td>0.0</td>\n",
       "      <td>208.326922</td>\n",
       "      <td>113.331285</td>\n",
       "      <td>198.798819</td>\n",
       "      <td>48064175</td>\n",
       "      <td>776516</td>\n",
       "      <td>42680064</td>\n",
       "      <td>29082.0</td>\n",
       "      <td>5.339109</td>\n",
       "      <td>4.730315</td>\n",
       "      <td>5.393305</td>\n",
       "      <td>17.688048</td>\n",
       "      <td>13.562573</td>\n",
       "      <td>17.569242</td>\n",
       "      <td>10.277875</td>\n",
       "      <td>261.955544</td>\n",
       "    </tr>\n",
       "    <tr>\n",
       "      <th>10</th>\n",
       "      <td>10</td>\n",
       "      <td>2021-11-20</td>\n",
       "      <td>1.0</td>\n",
       "      <td>200.237978</td>\n",
       "      <td>104.583368</td>\n",
       "      <td>98.787460</td>\n",
       "      <td>48095028</td>\n",
       "      <td>776893</td>\n",
       "      <td>42692451</td>\n",
       "      <td>24437.0</td>\n",
       "      <td>5.299507</td>\n",
       "      <td>4.649985</td>\n",
       "      <td>5.484577</td>\n",
       "      <td>17.688689</td>\n",
       "      <td>13.563058</td>\n",
       "      <td>17.569533</td>\n",
       "      <td>10.103854</td>\n",
       "      <td>288.147117</td>\n",
       "    </tr>\n",
       "    <tr>\n",
       "      <th>11</th>\n",
       "      <td>11</td>\n",
       "      <td>2021-11-21</td>\n",
       "      <td>1.0</td>\n",
       "      <td>153.727911</td>\n",
       "      <td>84.459722</td>\n",
       "      <td>195.030447</td>\n",
       "      <td>48146553</td>\n",
       "      <td>777437</td>\n",
       "      <td>43388524</td>\n",
       "      <td>87143.0</td>\n",
       "      <td>5.035184</td>\n",
       "      <td>4.436275</td>\n",
       "      <td>5.024542</td>\n",
       "      <td>17.689760</td>\n",
       "      <td>13.563758</td>\n",
       "      <td>17.585706</td>\n",
       "      <td>11.375306</td>\n",
       "      <td>178.176715</td>\n",
       "    </tr>\n",
       "    <tr>\n",
       "      <th>12</th>\n",
       "      <td>12</td>\n",
       "      <td>2021-11-22</td>\n",
       "      <td>0.0</td>\n",
       "      <td>169.592346</td>\n",
       "      <td>102.241354</td>\n",
       "      <td>199.656261</td>\n",
       "      <td>48171232</td>\n",
       "      <td>777629</td>\n",
       "      <td>43847084</td>\n",
       "      <td>225228.0</td>\n",
       "      <td>5.133398</td>\n",
       "      <td>4.627336</td>\n",
       "      <td>5.149012</td>\n",
       "      <td>17.690273</td>\n",
       "      <td>13.564005</td>\n",
       "      <td>17.596219</td>\n",
       "      <td>12.324869</td>\n",
       "      <td>202.945261</td>\n",
       "    </tr>\n",
       "    <tr>\n",
       "      <th>13</th>\n",
       "      <td>13</td>\n",
       "      <td>2021-11-23</td>\n",
       "      <td>0.0</td>\n",
       "      <td>188.860554</td>\n",
       "      <td>105.339931</td>\n",
       "      <td>133.692683</td>\n",
       "      <td>48195182</td>\n",
       "      <td>777750</td>\n",
       "      <td>44136777</td>\n",
       "      <td>230145.0</td>\n",
       "      <td>5.241009</td>\n",
       "      <td>4.657193</td>\n",
       "      <td>5.211641</td>\n",
       "      <td>17.690770</td>\n",
       "      <td>13.564160</td>\n",
       "      <td>17.602804</td>\n",
       "      <td>12.346465</td>\n",
       "      <td>216.674741</td>\n",
       "    </tr>\n",
       "    <tr>\n",
       "      <th>14</th>\n",
       "      <td>14</td>\n",
       "      <td>2021-11-24</td>\n",
       "      <td>0.0</td>\n",
       "      <td>208.926860</td>\n",
       "      <td>102.261181</td>\n",
       "      <td>158.312487</td>\n",
       "      <td>48411494</td>\n",
       "      <td>779624</td>\n",
       "      <td>45055771</td>\n",
       "      <td>299908.0</td>\n",
       "      <td>5.341984</td>\n",
       "      <td>4.627530</td>\n",
       "      <td>5.292293</td>\n",
       "      <td>17.695248</td>\n",
       "      <td>13.566567</td>\n",
       "      <td>17.623412</td>\n",
       "      <td>12.611231</td>\n",
       "      <td>235.725867</td>\n",
       "    </tr>\n",
       "  </tbody>\n",
       "</table>\n",
       "</div>"
      ],
      "text/plain": [
       "    Unnamed: 0        date  weekend     driving     transit     walking  \\\n",
       "5            5  2021-11-15      0.0  155.021242   99.521319  240.946995   \n",
       "6            6  2021-11-16      0.0  157.086692   99.774618  152.100644   \n",
       "7            7  2021-11-17      0.0  158.833792  100.054688  172.261270   \n",
       "8            8  2021-11-18      0.0  169.836009  102.968646  183.394758   \n",
       "9            9  2021-11-19      0.0  208.326922  113.331285  198.798819   \n",
       "10          10  2021-11-20      1.0  200.237978  104.583368   98.787460   \n",
       "11          11  2021-11-21      1.0  153.727911   84.459722  195.030447   \n",
       "12          12  2021-11-22      0.0  169.592346  102.241354  199.656261   \n",
       "13          13  2021-11-23      0.0  188.860554  105.339931  133.692683   \n",
       "14          14  2021-11-24      0.0  208.926860  102.261181  158.312487   \n",
       "\n",
       "       cases  deaths  boosters    tweets  driving_log  transit_log  \\\n",
       "5   47661242  772046  39295976   30262.0     5.043562     4.600372   \n",
       "6   47692614  772169  39662837   29197.0     5.056798     4.602914   \n",
       "7   47851512  773402  40782210   31329.0     5.067858     4.605717   \n",
       "8   47944283  774880  41879231   30191.0     5.134833     4.634425   \n",
       "9   48064175  776516  42680064   29082.0     5.339109     4.730315   \n",
       "10  48095028  776893  42692451   24437.0     5.299507     4.649985   \n",
       "11  48146553  777437  43388524   87143.0     5.035184     4.436275   \n",
       "12  48171232  777629  43847084  225228.0     5.133398     4.627336   \n",
       "13  48195182  777750  44136777  230145.0     5.241009     4.657193   \n",
       "14  48411494  779624  45055771  299908.0     5.341984     4.627530   \n",
       "\n",
       "    walking_log  cases_log  deaths_log  boosters_log  tweets_log  \\\n",
       "5      5.081706  17.679629   13.556799     17.486633   10.317648   \n",
       "6      5.124826  17.680287   13.556959     17.495925   10.281821   \n",
       "7      5.143719  17.683613   13.558554     17.523757   10.352299   \n",
       "8      5.193223  17.685550   13.560463     17.550301   10.315299   \n",
       "9      5.393305  17.688048   13.562573     17.569242   10.277875   \n",
       "10     5.484577  17.688689   13.563058     17.569533   10.103854   \n",
       "11     5.024542  17.689760   13.563758     17.585706   11.375306   \n",
       "12     5.149012  17.690273   13.564005     17.596219   12.324869   \n",
       "13     5.211641  17.690770   13.564160     17.602804   12.346465   \n",
       "14     5.292293  17.695248   13.566567     17.623412   12.611231   \n",
       "\n",
       "    walking_box_cox  \n",
       "5        189.154275  \n",
       "6        197.878088  \n",
       "7        201.825249  \n",
       "8        212.543886  \n",
       "9        261.955544  \n",
       "10       288.147117  \n",
       "11       178.176715  \n",
       "12       202.945261  \n",
       "13       216.674741  \n",
       "14       235.725867  "
      ]
     },
     "execution_count": 22,
     "metadata": {},
     "output_type": "execute_result"
    }
   ],
   "source": [
    "data.head(10)\n"
   ]
  },
  {
   "cell_type": "code",
   "execution_count": 23,
   "id": "6560fdad",
   "metadata": {},
   "outputs": [
    {
     "data": {
      "text/plain": [
       "Index(['Unnamed: 0', 'date', 'weekend', 'driving', 'transit', 'walking',\n",
       "       'cases', 'deaths', 'boosters', 'tweets', 'driving_log', 'transit_log',\n",
       "       'walking_log', 'cases_log', 'deaths_log', 'boosters_log', 'tweets_log',\n",
       "       'walking_box_cox'],\n",
       "      dtype='object')"
      ]
     },
     "execution_count": 23,
     "metadata": {},
     "output_type": "execute_result"
    }
   ],
   "source": [
    "data.columns"
   ]
  },
  {
   "cell_type": "code",
   "execution_count": 24,
   "id": "21b2a15c",
   "metadata": {},
   "outputs": [],
   "source": [
    "data.to_csv('last_prj_csv.csv')"
   ]
  },
  {
   "cell_type": "markdown",
   "id": "705897f7",
   "metadata": {},
   "source": [
    "# OLS "
   ]
  },
  {
   "cell_type": "code",
   "execution_count": 25,
   "id": "04026000",
   "metadata": {
    "scrolled": false
   },
   "outputs": [
    {
     "data": {
      "text/html": [
       "<table class=\"simpletable\">\n",
       "<caption>OLS Regression Results</caption>\n",
       "<tr>\n",
       "  <th>Dep. Variable:</th>     <td>walking_box_cox</td> <th>  R-squared:         </th> <td>   0.109</td>\n",
       "</tr>\n",
       "<tr>\n",
       "  <th>Model:</th>                   <td>OLS</td>       <th>  Adj. R-squared:    </th> <td>   0.030</td>\n",
       "</tr>\n",
       "<tr>\n",
       "  <th>Method:</th>             <td>Least Squares</td>  <th>  F-statistic:       </th> <td>   1.389</td>\n",
       "</tr>\n",
       "<tr>\n",
       "  <th>Date:</th>             <td>Sat, 29 Jan 2022</td> <th>  Prob (F-statistic):</th>  <td> 0.242</td> \n",
       "</tr>\n",
       "<tr>\n",
       "  <th>Time:</th>                 <td>14:28:28</td>     <th>  Log-Likelihood:    </th> <td> -315.78</td>\n",
       "</tr>\n",
       "<tr>\n",
       "  <th>No. Observations:</th>      <td>    63</td>      <th>  AIC:               </th> <td>   643.6</td>\n",
       "</tr>\n",
       "<tr>\n",
       "  <th>Df Residuals:</th>          <td>    57</td>      <th>  BIC:               </th> <td>   656.4</td>\n",
       "</tr>\n",
       "<tr>\n",
       "  <th>Df Model:</th>              <td>     5</td>      <th>                     </th>     <td> </td>   \n",
       "</tr>\n",
       "<tr>\n",
       "  <th>Covariance Type:</th>      <td>nonrobust</td>    <th>                     </th>     <td> </td>   \n",
       "</tr>\n",
       "</table>\n",
       "<table class=\"simpletable\">\n",
       "<tr>\n",
       "        <td></td>          <th>coef</th>     <th>std err</th>      <th>t</th>      <th>P>|t|</th>  <th>[0.025</th>    <th>0.975]</th>  \n",
       "</tr>\n",
       "<tr>\n",
       "  <th>weekend</th>      <td>   -8.4754</td> <td>   11.040</td> <td>   -0.768</td> <td> 0.446</td> <td>  -30.582</td> <td>   13.631</td>\n",
       "</tr>\n",
       "<tr>\n",
       "  <th>cases_log</th>    <td>   78.2352</td> <td>  433.279</td> <td>    0.181</td> <td> 0.857</td> <td> -789.392</td> <td>  945.862</td>\n",
       "</tr>\n",
       "<tr>\n",
       "  <th>deaths_log</th>   <td>-1403.4397</td> <td> 3197.212</td> <td>   -0.439</td> <td> 0.662</td> <td>-7805.746</td> <td> 4998.867</td>\n",
       "</tr>\n",
       "<tr>\n",
       "  <th>boosters_log</th> <td>  115.4248</td> <td>  256.451</td> <td>    0.450</td> <td> 0.654</td> <td> -398.109</td> <td>  628.959</td>\n",
       "</tr>\n",
       "<tr>\n",
       "  <th>tweets</th>       <td>-1.742e-05</td> <td> 9.01e-05</td> <td>   -0.193</td> <td> 0.847</td> <td>   -0.000</td> <td>    0.000</td>\n",
       "</tr>\n",
       "<tr>\n",
       "  <th>constant</th>     <td> 1.584e+04</td> <td> 3.15e+04</td> <td>    0.503</td> <td> 0.617</td> <td>-4.72e+04</td> <td> 7.89e+04</td>\n",
       "</tr>\n",
       "</table>\n",
       "<table class=\"simpletable\">\n",
       "<tr>\n",
       "  <th>Omnibus:</th>       <td> 2.149</td> <th>  Durbin-Watson:     </th> <td>   1.492</td>\n",
       "</tr>\n",
       "<tr>\n",
       "  <th>Prob(Omnibus):</th> <td> 0.341</td> <th>  Jarque-Bera (JB):  </th> <td>   1.520</td>\n",
       "</tr>\n",
       "<tr>\n",
       "  <th>Skew:</th>          <td> 0.035</td> <th>  Prob(JB):          </th> <td>   0.468</td>\n",
       "</tr>\n",
       "<tr>\n",
       "  <th>Kurtosis:</th>      <td> 3.758</td> <th>  Cond. No.          </th> <td>1.11e+09</td>\n",
       "</tr>\n",
       "</table><br/><br/>Notes:<br/>[1] Standard Errors assume that the covariance matrix of the errors is correctly specified.<br/>[2] The condition number is large, 1.11e+09. This might indicate that there are<br/>strong multicollinearity or other numerical problems."
      ],
      "text/plain": [
       "<class 'statsmodels.iolib.summary.Summary'>\n",
       "\"\"\"\n",
       "                            OLS Regression Results                            \n",
       "==============================================================================\n",
       "Dep. Variable:        walking_box_cox   R-squared:                       0.109\n",
       "Model:                            OLS   Adj. R-squared:                  0.030\n",
       "Method:                 Least Squares   F-statistic:                     1.389\n",
       "Date:                Sat, 29 Jan 2022   Prob (F-statistic):              0.242\n",
       "Time:                        14:28:28   Log-Likelihood:                -315.78\n",
       "No. Observations:                  63   AIC:                             643.6\n",
       "Df Residuals:                      57   BIC:                             656.4\n",
       "Df Model:                           5                                         \n",
       "Covariance Type:            nonrobust                                         \n",
       "================================================================================\n",
       "                   coef    std err          t      P>|t|      [0.025      0.975]\n",
       "--------------------------------------------------------------------------------\n",
       "weekend         -8.4754     11.040     -0.768      0.446     -30.582      13.631\n",
       "cases_log       78.2352    433.279      0.181      0.857    -789.392     945.862\n",
       "deaths_log   -1403.4397   3197.212     -0.439      0.662   -7805.746    4998.867\n",
       "boosters_log   115.4248    256.451      0.450      0.654    -398.109     628.959\n",
       "tweets       -1.742e-05   9.01e-05     -0.193      0.847      -0.000       0.000\n",
       "constant      1.584e+04   3.15e+04      0.503      0.617   -4.72e+04    7.89e+04\n",
       "==============================================================================\n",
       "Omnibus:                        2.149   Durbin-Watson:                   1.492\n",
       "Prob(Omnibus):                  0.341   Jarque-Bera (JB):                1.520\n",
       "Skew:                           0.035   Prob(JB):                        0.468\n",
       "Kurtosis:                       3.758   Cond. No.                     1.11e+09\n",
       "==============================================================================\n",
       "\n",
       "Notes:\n",
       "[1] Standard Errors assume that the covariance matrix of the errors is correctly specified.\n",
       "[2] The condition number is large, 1.11e+09. This might indicate that there are\n",
       "strong multicollinearity or other numerical problems.\n",
       "\"\"\""
      ]
     },
     "execution_count": 25,
     "metadata": {},
     "output_type": "execute_result"
    }
   ],
   "source": [
    "y = data['walking_box_cox']\n",
    "X = pd.DataFrame(data[['weekend','cases_log', 'deaths_log', 'boosters_log', 'tweets']])\n",
    "X['constant'] = 1\n",
    "myFit = sm.OLS(y, X).fit()\n",
    "model1 = sm.OLS(y, X)\n",
    "result = model1.fit()\n",
    "result.summary() "
   ]
  },
  {
   "cell_type": "markdown",
   "id": "6bbddad2",
   "metadata": {},
   "source": [
    "# Model Assumptions "
   ]
  },
  {
   "cell_type": "markdown",
   "id": "84f14989",
   "metadata": {},
   "source": [
    "# Autocorrelation"
   ]
  },
  {
   "cell_type": "markdown",
   "id": "fde52f0c",
   "metadata": {},
   "source": [
    "The Durbin-Watson statistic will always have a value ranging between 0 and 4. A value of 2.0 indicates there is no autocorrelation detected in the sample. Values from 0 to less than 2 point to positive autocorrelation."
   ]
  },
  {
   "cell_type": "markdown",
   "id": "723f1011",
   "metadata": {},
   "source": [
    "# Normality "
   ]
  },
  {
   "cell_type": "code",
   "execution_count": 26,
   "id": "198568e6",
   "metadata": {},
   "outputs": [
    {
     "name": "stdout",
     "output_type": "stream",
     "text": [
      "Jarque-Bera test ---- statistic: 1.5196, p-value: 0.46777146181567364\n",
      "Shapiro-Wilk test ---- statistic: 0.9581, p-value: 0.0311\n",
      "Kolmogorov-Smirnov test ---- statistic: 0.5671, p-value: 0.0000\n",
      "Anderson-Darling test ---- statistic: 0.9302, 5% critical value: 0.7440\n",
      "If the returned AD statistic is larger than the critical value, then for the 5% significance level, the null hypothesis that the data come from the Normal distribution should be rejected. \n"
     ]
    },
    {
     "data": {
      "image/png": "[encoded data removed]",
      "text/plain": [
       "<Figure size 432x288 with 1 Axes>"
      ]
     },
     "metadata": {
      "needs_background": "light"
     },
     "output_type": "display_data"
    }
   ],
   "source": [
    "def normality_of_residuals_test(model1): \n",
    "\n",
    "    sm.ProbPlot(model1.resid).qqplot(line='s');\n",
    "    plt.title('Q-Q plot');\n",
    "\n",
    "    jb = stats.jarque_bera(model1.resid)\n",
    "    sw = stats.shapiro(model1.resid)\n",
    "    ad = stats.anderson(model1.resid, dist='norm')\n",
    "    ks = stats.kstest(model1.resid, 'norm')\n",
    "    \n",
    "    print(f'Jarque-Bera test ---- statistic: {jb[0]:.4f}, p-value: {jb[1]}')\n",
    "    print(f'Shapiro-Wilk test ---- statistic: {sw[0]:.4f}, p-value: {sw[1]:.4f}')\n",
    "    print(f'Kolmogorov-Smirnov test ---- statistic: {ks.statistic:.4f}, p-value: {ks.pvalue:.4f}')\n",
    "    print(f'Anderson-Darling test ---- statistic: {ad.statistic:.4f}, 5% critical value: {ad.critical_values[2]:.4f}')\n",
    "    print('If the returned AD statistic is larger than the critical value, then for the 5% significance level, the null hypothesis that the data come from the Normal distribution should be rejected. ')\n",
    "    \n",
    "normality_of_residuals_test(myFit) \n"
   ]
  },
  {
   "cell_type": "markdown",
   "id": "74be6995",
   "metadata": {},
   "source": [
    "### Linearity "
   ]
  },
  {
   "cell_type": "code",
   "execution_count": 27,
   "id": "05733cc7",
   "metadata": {},
   "outputs": [
    {
     "data": {
      "text/plain": [
       "-3.0102905424110572e-09"
      ]
     },
     "execution_count": 27,
     "metadata": {},
     "output_type": "execute_result"
    },
    {
     "data": {
      "image/png": "[encoded data removed]",
      "text/plain": [
       "<Figure size 432x288 with 2 Axes>"
      ]
     },
     "metadata": {
      "needs_background": "light"
     },
     "output_type": "display_data"
    }
   ],
   "source": [
    "def linearity_test(model1, y):\n",
    "\n",
    "    fitted_vals = model1.predict()\n",
    "    resids = model1.resid\n",
    "\n",
    "    fig, ax = plt.subplots(1,2)\n",
    "    \n",
    "    sns.regplot(x=fitted_vals, y=y, lowess=True, ax=ax[0], line_kws={'color': 'red'})\n",
    "    ax[0].set_title('Observed vs. Predicted Values', fontsize=10)\n",
    "    ax[0].set(xlabel='Predicted', ylabel='Observed')\n",
    "\n",
    "    sns.regplot(x=fitted_vals, y=resids, lowess=True, ax=ax[1], line_kws={'color': 'red'})\n",
    "    ax[1].set_title('Residuals vs. Predicted Values', fontsize=10)\n",
    "    ax[1].set(xlabel='Predicted', ylabel='Residuals')\n",
    "    \n",
    "linearity_test(myFit, y)\n",
    "\n",
    "myFit.resid.mean()\n"
   ]
  },
  {
   "cell_type": "markdown",
   "id": "c27c064a",
   "metadata": {},
   "source": [
    "### No Multicolleniarity "
   ]
  },
  {
   "cell_type": "code",
   "execution_count": 28,
   "id": "5bd8dfea",
   "metadata": {},
   "outputs": [],
   "source": [
    "from statsmodels.stats.outliers_influence import variance_inflation_factor"
   ]
  },
  {
   "cell_type": "code",
   "execution_count": 29,
   "id": "a0b32db8",
   "metadata": {},
   "outputs": [
    {
     "data": {
      "text/plain": [
       "array([ 1.03551809, 10.31509241, 21.34613018, 12.2374227 ,  1.24206276])"
      ]
     },
     "execution_count": 29,
     "metadata": {},
     "output_type": "execute_result"
    }
   ],
   "source": [
    "vif = [variance_inflation_factor(X.values, i) for i in range(X.shape[1])]\n",
    "np.sqrt(vif[:-1]) #we'll either drop the variables above 10 or perform PCA"
   ]
  },
  {
   "cell_type": "markdown",
   "id": "8493c9a2",
   "metadata": {},
   "source": [
    "### Homoscedasticity"
   ]
  },
  {
   "cell_type": "code",
   "execution_count": 30,
   "id": "8a303cea",
   "metadata": {},
   "outputs": [
    {
     "name": "stdout",
     "output_type": "stream",
     "text": [
      "\n",
      " Breusch-Pagan test ----\n",
      "                                   value\n",
      "Lagrange multiplier statistic  14.179373\n",
      "p-value                         0.014509\n",
      "f-value                         3.310995\n",
      "f p-value                       0.010778\n",
      "\n",
      " Goldfeld-Quandt test ----\n",
      "                value\n",
      "F statistic  0.476716\n",
      "p-value      0.965977\n",
      "\n",
      " Residuals plots ----\n"
     ]
    },
    {
     "data": {
      "image/png": "[encoded data removed]",
      "text/plain": [
       "<Figure size 432x288 with 2 Axes>"
      ]
     },
     "metadata": {
      "needs_background": "light"
     },
     "output_type": "display_data"
    }
   ],
   "source": [
    "import statsmodels.stats.api as sms\n",
    "def homoscedasticity_test(model):\n",
    "\n",
    "    fitted_vals = model.predict()\n",
    "    resids = model.resid\n",
    "    resids_standardized = model.get_influence().resid_studentized_internal\n",
    "\n",
    "    fig, ax = plt.subplots(1,2)\n",
    "\n",
    "    sns.regplot(x=fitted_vals, y=resids, lowess=True, ax=ax[0], line_kws={'color': 'red'})\n",
    "    ax[0].set_title('Residuals vs Fitted', fontsize=16)\n",
    "    ax[0].set(xlabel='Fitted Values', ylabel='Residuals')\n",
    "\n",
    "    sns.regplot(x=fitted_vals, y=np.sqrt(np.abs(resids_standardized)), lowess=True, ax=ax[1], line_kws={'color': 'red'})\n",
    "    ax[1].set_title('Scale-Location', fontsize=16)\n",
    "    ax[1].set(xlabel='Fitted Values', ylabel='sqrt(abs(Residuals))')\n",
    "\n",
    "    bp_test = pd.DataFrame(sms.het_breuschpagan(resids, model.model.exog), \n",
    "                           columns=['value'],\n",
    "                           index=['Lagrange multiplier statistic', 'p-value', 'f-value', 'f p-value'])\n",
    "\n",
    "    gq_test = pd.DataFrame(sms.het_goldfeldquandt(resids, model.model.exog)[:-1],\n",
    "                           columns=['value'],\n",
    "                           index=['F statistic', 'p-value'])\n",
    "\n",
    "    print('\\n Breusch-Pagan test ----')\n",
    "    print(bp_test)\n",
    "    print('\\n Goldfeld-Quandt test ----')\n",
    "    print(gq_test)\n",
    "    print('\\n Residuals plots ----')\n",
    "\n",
    "homoscedasticity_test(myFit)"
   ]
  },
  {
   "cell_type": "code",
   "execution_count": 31,
   "id": "bb60da54",
   "metadata": {},
   "outputs": [
    {
     "data": {
      "text/plain": [
       "False"
      ]
     },
     "execution_count": 31,
     "metadata": {},
     "output_type": "execute_result"
    }
   ],
   "source": [
    "outMat = myFit.outlier_test()\n",
    "any(outMat['bonf(p)'] < .05)  "
   ]
  },
  {
   "cell_type": "code",
   "execution_count": 32,
   "id": "71864728",
   "metadata": {},
   "outputs": [
    {
     "data": {
      "text/plain": [
       "weekend         2.040816e-01\n",
       "cases_log       1.314617e-02\n",
       "deaths_log      1.033914e-03\n",
       "boosters_log    5.281536e-02\n",
       "tweets          4.405221e+09\n",
       "constant        0.000000e+00\n",
       "dtype: float64"
      ]
     },
     "execution_count": 32,
     "metadata": {},
     "output_type": "execute_result"
    }
   ],
   "source": [
    "#variability in X\n",
    "X.apply(np.var, axis=0)"
   ]
  },
  {
   "cell_type": "markdown",
   "id": "5d017fba",
   "metadata": {},
   "source": [
    "# PCA for multicollinearity"
   ]
  },
  {
   "cell_type": "markdown",
   "id": "3f95f06c",
   "metadata": {},
   "source": [
    "To prevent strong multicollineraity, we'll either use PCA or partial least squares regression."
   ]
  },
  {
   "cell_type": "code",
   "execution_count": 33,
   "id": "ca99c1a4",
   "metadata": {},
   "outputs": [],
   "source": [
    "from sklearn.preprocessing import scale \n",
    "from sklearn import model_selection\n",
    "from sklearn.model_selection import RepeatedKFold\n",
    "from sklearn.model_selection import train_test_split\n",
    "from sklearn.decomposition import PCA\n",
    "from sklearn.linear_model import LinearRegression\n",
    "from sklearn.metrics import mean_squared_error"
   ]
  },
  {
   "cell_type": "code",
   "execution_count": 34,
   "id": "6353240e",
   "metadata": {},
   "outputs": [],
   "source": [
    "pca = PCA()\n",
    "X_reduced = pca.fit_transform(scale(X))"
   ]
  },
  {
   "cell_type": "code",
   "execution_count": 35,
   "id": "3377a029",
   "metadata": {},
   "outputs": [],
   "source": [
    "cv = RepeatedKFold(n_splits=10, n_repeats=3, random_state=1)"
   ]
  },
  {
   "cell_type": "code",
   "execution_count": 36,
   "id": "a83bcb28",
   "metadata": {},
   "outputs": [],
   "source": [
    "regr = LinearRegression()\n",
    "mse = []"
   ]
  },
  {
   "cell_type": "code",
   "execution_count": 37,
   "id": "a5cd664c",
   "metadata": {},
   "outputs": [],
   "source": [
    "score = -1*model_selection.cross_val_score(regr,\n",
    "           np.ones((len(X_reduced),1)), y, cv=cv,\n",
    "           scoring='neg_mean_squared_error').mean()    \n",
    "mse.append(score)"
   ]
  },
  {
   "cell_type": "code",
   "execution_count": 38,
   "id": "9c8ef33c",
   "metadata": {},
   "outputs": [],
   "source": [
    "for i in np.arange(1, 6):\n",
    "    score = -1*model_selection.cross_val_score(regr,\n",
    "               X_reduced[:,:i], y, cv=cv, scoring='neg_mean_squared_error').mean()\n",
    "    mse.append(score)"
   ]
  },
  {
   "cell_type": "code",
   "execution_count": 39,
   "id": "d91d40ec",
   "metadata": {},
   "outputs": [
    {
     "data": {
      "image/png": "[encoded data removed]",
      "text/plain": [
       "<Figure size 432x288 with 1 Axes>"
      ]
     },
     "metadata": {
      "needs_background": "light"
     },
     "output_type": "display_data"
    }
   ],
   "source": [
    "# Plot cross-validation results    \n",
    "plt.plot(mse)\n",
    "plt.xlabel('Number of Principal Components')\n",
    "plt.ylabel('MSE')\n",
    "plt.title('hp');"
   ]
  },
  {
   "cell_type": "markdown",
   "id": "940c04a4",
   "metadata": {},
   "source": [
    "From the plot we can see that the test MSE decreases by adding in one principal component, yet it begins to increase as we add more than one principal component.Thus, the optimal model includes just the first component."
   ]
  },
  {
   "cell_type": "code",
   "execution_count": 40,
   "id": "5f29f659",
   "metadata": {},
   "outputs": [
    {
     "data": {
      "text/plain": [
       "array([ 57.45,  78.43,  97.98,  99.98, 100.01, 100.01])"
      ]
     },
     "execution_count": 40,
     "metadata": {},
     "output_type": "execute_result"
    }
   ],
   "source": [
    "np.cumsum(np.round(pca.explained_variance_ratio_, decimals=4)*100)"
   ]
  },
  {
   "cell_type": "markdown",
   "id": "db9ef6ef",
   "metadata": {},
   "source": [
    "By using just the first principal component, we can explain 57.45% of the variation in the response variable."
   ]
  },
  {
   "cell_type": "code",
   "execution_count": 41,
   "id": "20fee786",
   "metadata": {},
   "outputs": [
    {
     "data": {
      "text/plain": [
       "41.44484854168144"
      ]
     },
     "execution_count": 41,
     "metadata": {},
     "output_type": "execute_result"
    }
   ],
   "source": [
    "#split the dataset into training (70%) and testing (30%) sets\n",
    "X_train,X_test,y_train,y_test = train_test_split(X,y,test_size=0.3,random_state=0) \n",
    "\n",
    "#scale the training and testing data\n",
    "X_reduced_train = pca.fit_transform(scale(X_train))\n",
    "X_reduced_test = pca.transform(scale(X_test))[:,:1]\n",
    "\n",
    "#train PCR model on training data \n",
    "regr = LinearRegression()\n",
    "regr.fit(X_reduced_train[:,:1], y_train)\n",
    "\n",
    "#calculate RMSE\n",
    "pred = regr.predict(X_reduced_test)\n",
    "np.sqrt(mean_squared_error(y_test, pred))"
   ]
  },
  {
   "cell_type": "markdown",
   "id": "72adc5b1",
   "metadata": {},
   "source": [
    "We can see that the test RMSE turns out to be 41.6460. This is the average deviation between the predicted value for hp and the observed value for hp for the observations in the testing set."
   ]
  },
  {
   "cell_type": "markdown",
   "id": "3b591858",
   "metadata": {},
   "source": [
    "# Poisson "
   ]
  },
  {
   "cell_type": "code",
   "execution_count": 42,
   "id": "5b5b9362",
   "metadata": {
    "scrolled": true
   },
   "outputs": [
    {
     "name": "stdout",
     "output_type": "stream",
     "text": [
      "                 Generalized Linear Model Regression Results                  \n",
      "==============================================================================\n",
      "Dep. Variable:            walking_log   No. Observations:                   63\n",
      "Model:                            GLM   Df Residuals:                       57\n",
      "Model Family:                 Poisson   Df Model:                            5\n",
      "Link Function:                    log   Scale:                          1.0000\n",
      "Method:                          IRLS   Log-Likelihood:                -110.58\n",
      "Date:                Sat, 29 Jan 2022   Deviance:                      0.42544\n",
      "Time:                        14:28:31   Pearson chi2:                    0.421\n",
      "No. Iterations:                     3                                         \n",
      "Covariance Type:            nonrobust                                         \n",
      "==============================================================================\n",
      "                 coef    std err          z      P>|z|      [0.025      0.975]\n",
      "------------------------------------------------------------------------------\n",
      "Intercept     11.6274    574.241      0.020      0.984   -1113.864    1137.119\n",
      "cases_log     -0.0447      5.219     -0.009      0.993     -10.274      10.184\n",
      "deaths_log    -0.6762     49.120     -0.014      0.989     -96.950      95.598\n",
      "tweets_log    -0.0066      0.117     -0.056      0.955      -0.236       0.223\n",
      "boosters      1.3e-09   7.61e-08      0.017      0.986   -1.48e-07     1.5e-07\n",
      "weekend       -0.0144      0.133     -0.108      0.914      -0.275       0.247\n",
      "==============================================================================\n"
     ]
    }
   ],
   "source": [
    "model = smf.glm(formula = \"walking_log ~ cases_log + deaths_log + tweets_log + boosters + weekend\", data=data, family=sm.families.Poisson()).fit()\n",
    "print(model.summary())"
   ]
  },
  {
   "cell_type": "code",
   "execution_count": null,
   "id": "57999cd3",
   "metadata": {},
   "outputs": [],
   "source": []
  }
 ],
 "metadata": {
  "kernelspec": {
   "display_name": "Python 3",
   "language": "python",
   "name": "python3"
  },
  "language_info": {
   "codemirror_mode": {
    "name": "ipython",
    "version": 3
   },
   "file_extension": ".py",
   "mimetype": "text/x-python",
   "name": "python",
   "nbconvert_exporter": "python",
   "pygments_lexer": "ipython3",
   "version": "3.8.8"
  }
 },
 "nbformat": 4,
 "nbformat_minor": 5
}
